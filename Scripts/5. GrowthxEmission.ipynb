{
 "cells": [
  {
   "cell_type": "markdown",
   "id": "adverse-gibson",
   "metadata": {},
   "source": [
    "# Introdução"
   ]
  },
  {
   "cell_type": "markdown",
   "id": "rental-arrangement",
   "metadata": {},
   "source": [
    "Este notebook tem o intuito de relacionar as bases 1 e 2 conforme descritos abaixo:\n",
    "    \n",
    "1. \"Emission_Country_Year\" - Base principal do projeto, pois contén os dados quantitativos relacionados a emissão de gases poluentes por País e Ano, esta base registra dados de AAAA a AAAA de 236 países.\n",
    "\n",
    "2. \"Growth population\" - Base auxiliar, contém informações sobre o Crescimento populacional por País,\n",
    "\n",
    "As relações das bases se darão pelas colunas Base 1, Coluna \"country\" e Base 2, coluna \"Entity\" que são comuns em ambas as bases.\n",
    "\n",
    "Os dados foram limitados para dar inicio no ano de 1850, por conta da nossa base principal iniciar neste ano.\n",
    "\n",
    "Contextualização: Utilizaremos está base para dar mais detalhes de como a Emissão de cO2 foi influenciada com o crescimento populacional de cada País. "
   ]
  },
  {
   "cell_type": "markdown",
   "id": "sonic-fundamentals",
   "metadata": {},
   "source": [
    "# Configurações e importações de bibliotecas"
   ]
  },
  {
   "cell_type": "code",
   "execution_count": 1,
   "id": "cardiovascular-venture",
   "metadata": {},
   "outputs": [
    {
     "name": "stdout",
     "output_type": "stream",
     "text": [
      "Requirement already satisfied: google-cloud-storage in /opt/conda/lib/python3.7/site-packages (1.30.0)\n",
      "Requirement already satisfied: google-resumable-media<2.0dev,>=0.6.0 in /opt/conda/lib/python3.7/site-packages (from google-cloud-storage) (1.2.0)\n",
      "Requirement already satisfied: google-cloud-core<2.0dev,>=1.2.0 in /opt/conda/lib/python3.7/site-packages (from google-cloud-storage) (1.3.0)\n",
      "Requirement already satisfied: google-auth<2.0dev,>=1.11.0 in /opt/conda/lib/python3.7/site-packages (from google-cloud-storage) (1.24.0)\n",
      "Requirement already satisfied: pyasn1-modules>=0.2.1 in /opt/conda/lib/python3.7/site-packages (from google-auth<2.0dev,>=1.11.0->google-cloud-storage) (0.2.8)\n",
      "Requirement already satisfied: setuptools>=40.3.0 in /opt/conda/lib/python3.7/site-packages (from google-auth<2.0dev,>=1.11.0->google-cloud-storage) (53.0.0)\n",
      "Requirement already satisfied: rsa<5,>=3.1.4 in /opt/conda/lib/python3.7/site-packages (from google-auth<2.0dev,>=1.11.0->google-cloud-storage) (4.7)\n",
      "Requirement already satisfied: cachetools<5.0,>=2.0.0 in /opt/conda/lib/python3.7/site-packages (from google-auth<2.0dev,>=1.11.0->google-cloud-storage) (4.2.1)\n",
      "Requirement already satisfied: six>=1.9.0 in /opt/conda/lib/python3.7/site-packages (from google-auth<2.0dev,>=1.11.0->google-cloud-storage) (1.15.0)\n",
      "Requirement already satisfied: google-api-core<2.0.0dev,>=1.16.0 in /opt/conda/lib/python3.7/site-packages (from google-cloud-core<2.0dev,>=1.2.0->google-cloud-storage) (1.22.4)\n",
      "Requirement already satisfied: protobuf>=3.12.0 in /opt/conda/lib/python3.7/site-packages (from google-api-core<2.0.0dev,>=1.16.0->google-cloud-core<2.0dev,>=1.2.0->google-cloud-storage) (3.14.0)\n",
      "Requirement already satisfied: pytz in /opt/conda/lib/python3.7/site-packages (from google-api-core<2.0.0dev,>=1.16.0->google-cloud-core<2.0dev,>=1.2.0->google-cloud-storage) (2021.1)\n",
      "Requirement already satisfied: googleapis-common-protos<2.0dev,>=1.6.0 in /opt/conda/lib/python3.7/site-packages (from google-api-core<2.0.0dev,>=1.16.0->google-cloud-core<2.0dev,>=1.2.0->google-cloud-storage) (1.52.0)\n",
      "Requirement already satisfied: requests<3.0.0dev,>=2.18.0 in /opt/conda/lib/python3.7/site-packages (from google-api-core<2.0.0dev,>=1.16.0->google-cloud-core<2.0dev,>=1.2.0->google-cloud-storage) (2.25.1)\n",
      "Requirement already satisfied: google-crc32c<2.0dev,>=1.0 in /opt/conda/lib/python3.7/site-packages (from google-resumable-media<2.0dev,>=0.6.0->google-cloud-storage) (1.1.2)\n",
      "Requirement already satisfied: cffi>=1.0.0 in /opt/conda/lib/python3.7/site-packages (from google-crc32c<2.0dev,>=1.0->google-resumable-media<2.0dev,>=0.6.0->google-cloud-storage) (1.14.4)\n",
      "Requirement already satisfied: pycparser in /opt/conda/lib/python3.7/site-packages (from cffi>=1.0.0->google-crc32c<2.0dev,>=1.0->google-resumable-media<2.0dev,>=0.6.0->google-cloud-storage) (2.20)\n",
      "Requirement already satisfied: pyasn1<0.5.0,>=0.4.6 in /opt/conda/lib/python3.7/site-packages (from pyasn1-modules>=0.2.1->google-auth<2.0dev,>=1.11.0->google-cloud-storage) (0.4.8)\n",
      "Requirement already satisfied: idna<3,>=2.5 in /opt/conda/lib/python3.7/site-packages (from requests<3.0.0dev,>=2.18.0->google-api-core<2.0.0dev,>=1.16.0->google-cloud-core<2.0dev,>=1.2.0->google-cloud-storage) (2.10)\n",
      "Requirement already satisfied: chardet<5,>=3.0.2 in /opt/conda/lib/python3.7/site-packages (from requests<3.0.0dev,>=2.18.0->google-api-core<2.0.0dev,>=1.16.0->google-cloud-core<2.0dev,>=1.2.0->google-cloud-storage) (4.0.0)\n",
      "Requirement already satisfied: urllib3<1.27,>=1.21.1 in /opt/conda/lib/python3.7/site-packages (from requests<3.0.0dev,>=2.18.0->google-api-core<2.0.0dev,>=1.16.0->google-cloud-core<2.0dev,>=1.2.0->google-cloud-storage) (1.26.3)\n",
      "Requirement already satisfied: certifi>=2017.4.17 in /opt/conda/lib/python3.7/site-packages (from requests<3.0.0dev,>=2.18.0->google-api-core<2.0.0dev,>=1.16.0->google-cloud-core<2.0dev,>=1.2.0->google-cloud-storage) (2020.12.5)\n",
      "Requirement already satisfied: pandas in /opt/conda/lib/python3.7/site-packages (1.2.1)\n",
      "Requirement already satisfied: python-dateutil>=2.7.3 in /opt/conda/lib/python3.7/site-packages (from pandas) (2.8.1)\n",
      "Requirement already satisfied: pytz>=2017.3 in /opt/conda/lib/python3.7/site-packages (from pandas) (2021.1)\n",
      "Requirement already satisfied: numpy>=1.16.5 in /opt/conda/lib/python3.7/site-packages (from pandas) (1.19.5)\n",
      "Requirement already satisfied: six>=1.5 in /opt/conda/lib/python3.7/site-packages (from python-dateutil>=2.7.3->pandas) (1.15.0)\n"
     ]
    }
   ],
   "source": [
    "!pip install google-cloud-storage\n",
    "!pip install pandas"
   ]
  },
  {
   "cell_type": "code",
   "execution_count": 2,
   "id": "rough-demographic",
   "metadata": {},
   "outputs": [],
   "source": [
    "# Importar a biblioteca do \n",
    "import pandas as pd\n",
    "\n",
    "# Importar a biblioteca do Google Cloud Storage para upload do arquivo .csv salvo\n",
    "from google.cloud import storage"
   ]
  },
  {
   "cell_type": "markdown",
   "id": "major-circus",
   "metadata": {},
   "source": [
    "# Criação da Dimensão País "
   ]
  },
  {
   "cell_type": "code",
   "execution_count": 3,
   "id": "binding-engagement",
   "metadata": {},
   "outputs": [
    {
     "data": {
      "text/plain": [
       "Index(['iso_code', 'country', 'year', 'co2', 'co2_growth_prct',\n",
       "       'co2_growth_abs', 'consumption_co2', 'trade_co2', 'trade_co2_share',\n",
       "       'co2_per_capita', 'consumption_co2_per_capita', 'share_global_co2',\n",
       "       'cumulative_co2', 'share_global_cumulative_co2', 'co2_per_gdp',\n",
       "       'consumption_co2_per_gdp', 'co2_per_unit_energy', 'cement_co2',\n",
       "       'coal_co2', 'flaring_co2', 'gas_co2', 'oil_co2', 'other_industry_co2',\n",
       "       'cement_co2_per_capita', 'coal_co2_per_capita',\n",
       "       'flaring_co2_per_capita', 'gas_co2_per_capita', 'oil_co2_per_capita',\n",
       "       'other_co2_per_capita', 'share_global_coal_co2', 'share_global_oil_co2',\n",
       "       'share_global_gas_co2', 'share_global_flaring_co2',\n",
       "       'share_global_cement_co2', 'cumulative_coal_co2', 'cumulative_oil_co2',\n",
       "       'cumulative_gas_co2', 'cumulative_flaring_co2', 'cumulative_cement_co2',\n",
       "       'share_global_cumulative_coal_co2', 'share_global_cumulative_oil_co2',\n",
       "       'share_global_cumulative_gas_co2',\n",
       "       'share_global_cumulative_flaring_co2',\n",
       "       'share_global_cumulative_cement_co2', 'total_ghg', 'ghg_per_capita',\n",
       "       'methane', 'methane_per_capita', 'nitrous_oxide',\n",
       "       'nitrous_oxide_per_capita', 'primary_energy_consumption',\n",
       "       'energy_per_capita', 'energy_per_gdp', 'population', 'gdp'],\n",
       "      dtype='object')"
      ]
     },
     "execution_count": 3,
     "metadata": {},
     "output_type": "execute_result"
    }
   ],
   "source": [
    "# Ler a base dimensão País do Github\n",
    "Pais = pd.read_csv('https://raw.githubusercontent.com/owid/co2-data/master/owid-co2-data.csv', error_bad_lines=False)\n",
    "\n",
    "# Listar todas as colunas para visualizar quais serão utilizadas\n",
    "Pais.columns"
   ]
  },
  {
   "cell_type": "code",
   "execution_count": 5,
   "id": "related-winter",
   "metadata": {},
   "outputs": [],
   "source": [
    "# Selecionar as colunas que serão utilizadas\n",
    "Pais = Pais.filter(items=['iso_code', 'country'])\n",
    "\n",
    "# Dropar todos os valores nulos\n",
    "#Pais.dropna(inplace=True)"
   ]
  },
  {
   "cell_type": "code",
   "execution_count": 6,
   "id": "minute-teach",
   "metadata": {},
   "outputs": [
    {
     "data": {
      "text/html": [
       "<div>\n",
       "<style scoped>\n",
       "    .dataframe tbody tr th:only-of-type {\n",
       "        vertical-align: middle;\n",
       "    }\n",
       "\n",
       "    .dataframe tbody tr th {\n",
       "        vertical-align: top;\n",
       "    }\n",
       "\n",
       "    .dataframe thead tr th {\n",
       "        text-align: left;\n",
       "    }\n",
       "</style>\n",
       "<table border=\"1\" class=\"dataframe\">\n",
       "  <thead>\n",
       "    <tr>\n",
       "      <th></th>\n",
       "      <th>country</th>\n",
       "      <th>iso_code</th>\n",
       "    </tr>\n",
       "  </thead>\n",
       "  <tbody>\n",
       "    <tr>\n",
       "      <th>0</th>\n",
       "      <td>Afghanistan</td>\n",
       "      <td>AFG</td>\n",
       "    </tr>\n",
       "    <tr>\n",
       "      <th>1</th>\n",
       "      <td>Albania</td>\n",
       "      <td>ALB</td>\n",
       "    </tr>\n",
       "    <tr>\n",
       "      <th>2</th>\n",
       "      <td>Algeria</td>\n",
       "      <td>DZA</td>\n",
       "    </tr>\n",
       "    <tr>\n",
       "      <th>3</th>\n",
       "      <td>Andorra</td>\n",
       "      <td>AND</td>\n",
       "    </tr>\n",
       "    <tr>\n",
       "      <th>4</th>\n",
       "      <td>Angola</td>\n",
       "      <td>AGO</td>\n",
       "    </tr>\n",
       "  </tbody>\n",
       "</table>\n",
       "</div>"
      ],
      "text/plain": [
       "       country iso_code\n",
       "0  Afghanistan      AFG\n",
       "1      Albania      ALB\n",
       "2      Algeria      DZA\n",
       "3      Andorra      AND\n",
       "4       Angola      AGO"
      ]
     },
     "execution_count": 6,
     "metadata": {},
     "output_type": "execute_result"
    }
   ],
   "source": [
    "#Agrupar 'iso_code' selecionando os dados coluna 'country' - índice reiniciado para 'iso_code' e transformado em coluna\n",
    "Pais = Pais.groupby('country')['iso_code'].apply(lambda Pais: Pais.reset_index(drop=True)).unstack(0)\n",
    "\n",
    "#Dropar todos os valores nulos\n",
    "Pais.dropna(inplace=True)\n",
    "\n",
    "# Transpor DataFrame\n",
    "Pais = Pais.transpose()\n",
    "\n",
    "# Reiniciar índice\n",
    "Pais.reset_index(inplace=True)\n",
    "\n",
    "# Alterar nome da coluna para 'country'\n",
    "Pais.columns = [['country', 'iso_code']]\n",
    "\n",
    "#exibição do dataframe\n",
    "Pais.head()"
   ]
  },
  {
   "cell_type": "code",
   "execution_count": 6,
   "id": "comprehensive-leader",
   "metadata": {},
   "outputs": [],
   "source": [
    "# Salvar o dataframe em formato .csv na Máquina Virtual\n",
    "Pais.to_csv('/home/jupyter/Growth_Pais.csv')"
   ]
  },
  {
   "cell_type": "code",
   "execution_count": 7,
   "id": "whole-caribbean",
   "metadata": {},
   "outputs": [],
   "source": [
    "# Especificar chave de acesso ao Google Cloud Storage\n",
    "chavegcs = storage.Client.from_service_account_json(json_credentials_path='/home/projeto/projeto-integrado-testes-d05ad511204a.json')\n",
    "\n",
    "# Nome do Bucket onde o arquivo será salvo no Google Cloud Storage\n",
    "bucket = chavegcs.get_bucket('projeto-integrado')\n",
    "\n",
    "# Nome que o arquivo será salvo no Google Cloud Storage\n",
    "nomearquivogcs = bucket.blob('Growth_Pais.csv')\n",
    "\n",
    "# Diretório/Nome do arquivo na VM a ser salvo no Google Cloud Storage\n",
    "nomearquivogcs.upload_from_filename('/home/jupyter/Growth_Pais.csv')"
   ]
  },
  {
   "cell_type": "markdown",
   "id": "insured-rochester",
   "metadata": {},
   "source": [
    "# Tratamento de Crescimento populacional por País"
   ]
  },
  {
   "cell_type": "code",
   "execution_count": 7,
   "id": "pressing-caution",
   "metadata": {},
   "outputs": [
    {
     "data": {
      "text/plain": [
       "Index(['Entity', 'Code', 'Year', 'Total population (Gapminder, HYDE & UN)'], dtype='object')"
      ]
     },
     "execution_count": 7,
     "metadata": {},
     "output_type": "execute_result"
    }
   ],
   "source": [
    "# Ler a base do PIB do diretorio do GitHub\n",
    "GrowthPais  = pd.read_csv('https://raw.githubusercontent.com/ViniGome/Projeto-Integrado/main/population.csv', error_bad_lines=False)\n",
    "\n",
    "# Listar todas as colunas para visualizar quais serão utilizadas\n",
    "GrowthPais .columns"
   ]
  },
  {
   "cell_type": "code",
   "execution_count": 8,
   "id": "deluxe-layer",
   "metadata": {},
   "outputs": [],
   "source": [
    "# Selecionar as colunas que serão utilizadas\n",
    "GrowthPais = GrowthPais .filter(items=['Year', 'Entity', 'Total population (Gapminder, HYDE & UN)'])"
   ]
  },
  {
   "cell_type": "code",
   "execution_count": 9,
   "id": "pleasant-latvia",
   "metadata": {},
   "outputs": [
    {
     "data": {
      "text/html": [
       "<div>\n",
       "<style scoped>\n",
       "    .dataframe tbody tr th:only-of-type {\n",
       "        vertical-align: middle;\n",
       "    }\n",
       "\n",
       "    .dataframe tbody tr th {\n",
       "        vertical-align: top;\n",
       "    }\n",
       "\n",
       "    .dataframe thead th {\n",
       "        text-align: right;\n",
       "    }\n",
       "</style>\n",
       "<table border=\"1\" class=\"dataframe\">\n",
       "  <thead>\n",
       "    <tr style=\"text-align: right;\">\n",
       "      <th></th>\n",
       "      <th>Year</th>\n",
       "      <th>Entity</th>\n",
       "      <th>Total population (Gapminder, HYDE &amp; UN)</th>\n",
       "    </tr>\n",
       "  </thead>\n",
       "  <tbody>\n",
       "    <tr>\n",
       "      <th>50</th>\n",
       "      <td>1850</td>\n",
       "      <td>Afghanistan</td>\n",
       "      <td>3810047</td>\n",
       "    </tr>\n",
       "    <tr>\n",
       "      <th>51</th>\n",
       "      <td>1851</td>\n",
       "      <td>Afghanistan</td>\n",
       "      <td>3826140</td>\n",
       "    </tr>\n",
       "    <tr>\n",
       "      <th>52</th>\n",
       "      <td>1852</td>\n",
       "      <td>Afghanistan</td>\n",
       "      <td>3842299</td>\n",
       "    </tr>\n",
       "    <tr>\n",
       "      <th>53</th>\n",
       "      <td>1853</td>\n",
       "      <td>Afghanistan</td>\n",
       "      <td>3858524</td>\n",
       "    </tr>\n",
       "    <tr>\n",
       "      <th>54</th>\n",
       "      <td>1854</td>\n",
       "      <td>Afghanistan</td>\n",
       "      <td>3874815</td>\n",
       "    </tr>\n",
       "    <tr>\n",
       "      <th>...</th>\n",
       "      <td>...</td>\n",
       "      <td>...</td>\n",
       "      <td>...</td>\n",
       "    </tr>\n",
       "    <tr>\n",
       "      <th>46878</th>\n",
       "      <td>2015</td>\n",
       "      <td>Zimbabwe</td>\n",
       "      <td>13815000</td>\n",
       "    </tr>\n",
       "    <tr>\n",
       "      <th>46879</th>\n",
       "      <td>2016</td>\n",
       "      <td>Zimbabwe</td>\n",
       "      <td>14030000</td>\n",
       "    </tr>\n",
       "    <tr>\n",
       "      <th>46880</th>\n",
       "      <td>2017</td>\n",
       "      <td>Zimbabwe</td>\n",
       "      <td>14237000</td>\n",
       "    </tr>\n",
       "    <tr>\n",
       "      <th>46881</th>\n",
       "      <td>2018</td>\n",
       "      <td>Zimbabwe</td>\n",
       "      <td>14439000</td>\n",
       "    </tr>\n",
       "    <tr>\n",
       "      <th>46882</th>\n",
       "      <td>2019</td>\n",
       "      <td>Zimbabwe</td>\n",
       "      <td>14645000</td>\n",
       "    </tr>\n",
       "  </tbody>\n",
       "</table>\n",
       "<p>36751 rows × 3 columns</p>\n",
       "</div>"
      ],
      "text/plain": [
       "       Year       Entity  Total population (Gapminder, HYDE & UN)\n",
       "50     1850  Afghanistan                                  3810047\n",
       "51     1851  Afghanistan                                  3826140\n",
       "52     1852  Afghanistan                                  3842299\n",
       "53     1853  Afghanistan                                  3858524\n",
       "54     1854  Afghanistan                                  3874815\n",
       "...     ...          ...                                      ...\n",
       "46878  2015     Zimbabwe                                 13815000\n",
       "46879  2016     Zimbabwe                                 14030000\n",
       "46880  2017     Zimbabwe                                 14237000\n",
       "46881  2018     Zimbabwe                                 14439000\n",
       "46882  2019     Zimbabwe                                 14645000\n",
       "\n",
       "[36751 rows x 3 columns]"
      ]
     },
     "execution_count": 9,
     "metadata": {},
     "output_type": "execute_result"
    }
   ],
   "source": [
    "# Dropando dados abaixo do ano de 1850.\n",
    "indexNames = GrowthPais[(GrowthPais['Year'] < 1850 )].index\n",
    "GrowthPais.drop(indexNames, inplace=True)\n",
    "GrowthPais"
   ]
  },
  {
   "cell_type": "code",
   "execution_count": 10,
   "id": "familiar-timer",
   "metadata": {},
   "outputs": [],
   "source": [
    "# Converter coluna dt para número inteiro\n",
    "GrowthPais = GrowthPais .astype({'Year': int})\n",
    "\n",
    "# Alterar nomes das colunas\n",
    "GrowthPais = GrowthPais .rename(columns={'Entity': 'Country', 'Total population (Gapminder, HYDE & UN)': 'Growth'})"
   ]
  },
  {
   "cell_type": "code",
   "execution_count": 14,
   "id": "hollywood-struggle",
   "metadata": {},
   "outputs": [],
   "source": [
    "#importação de pacote\n",
    "from google.cloud import storage"
   ]
  },
  {
   "cell_type": "code",
   "execution_count": 15,
   "id": "senior-springfield",
   "metadata": {},
   "outputs": [],
   "source": [
    "# setando as credeciais com o arquivo json que contem a chave\n",
    "client = storage.Client.from_service_account_json(json_credentials_path='/home/greyce_cos_sil/projetoteste-299919-abc73be2d5b5.json')"
   ]
  },
  {
   "cell_type": "code",
   "execution_count": 16,
   "id": "democratic-genesis",
   "metadata": {},
   "outputs": [],
   "source": [
    "# setando o bucket onde deseja-se salvar os arquivos\n",
    "bucket = client.get_bucket('jupyter_note')"
   ]
  },
  {
   "cell_type": "code",
   "execution_count": 17,
   "id": "scenic-header",
   "metadata": {},
   "outputs": [],
   "source": [
    "#salvando os dados do dataframe Kyoto_Agreement_Countries em um arquivo csv\n",
    "GrowthPais.to_csv(\"Growth_Country_Year.csv\")"
   ]
  },
  {
   "cell_type": "code",
   "execution_count": 18,
   "id": "alien-length",
   "metadata": {},
   "outputs": [],
   "source": [
    "#Nome do arquivo que será salvo no bucket\n",
    "Growth_Country_Year_bucket = bucket.blob('Growth_Country_Year.csv')"
   ]
  },
  {
   "cell_type": "code",
   "execution_count": 20,
   "id": "soviet-denver",
   "metadata": {},
   "outputs": [],
   "source": [
    "# Name of the object in local file system\n",
    "Growth_Country_Year_bucket.upload_from_filename('/home/jupyter/Growth_Country_Year.csv')"
   ]
  },
  {
   "cell_type": "code",
   "execution_count": 21,
   "id": "rational-degree",
   "metadata": {},
   "outputs": [
    {
     "data": {
      "text/html": [
       "<div>\n",
       "<style scoped>\n",
       "    .dataframe tbody tr th:only-of-type {\n",
       "        vertical-align: middle;\n",
       "    }\n",
       "\n",
       "    .dataframe tbody tr th {\n",
       "        vertical-align: top;\n",
       "    }\n",
       "\n",
       "    .dataframe thead th {\n",
       "        text-align: right;\n",
       "    }\n",
       "</style>\n",
       "<table border=\"1\" class=\"dataframe\">\n",
       "  <thead>\n",
       "    <tr style=\"text-align: right;\">\n",
       "      <th></th>\n",
       "      <th></th>\n",
       "      <th>Growth</th>\n",
       "    </tr>\n",
       "    <tr>\n",
       "      <th>Year</th>\n",
       "      <th>Country</th>\n",
       "      <th></th>\n",
       "    </tr>\n",
       "  </thead>\n",
       "  <tbody>\n",
       "    <tr>\n",
       "      <th rowspan=\"5\" valign=\"top\">1850</th>\n",
       "      <th>Afghanistan</th>\n",
       "      <td>3810047</td>\n",
       "    </tr>\n",
       "    <tr>\n",
       "      <th>Africa</th>\n",
       "      <td>102932088</td>\n",
       "    </tr>\n",
       "    <tr>\n",
       "      <th>Albania</th>\n",
       "      <td>506889</td>\n",
       "    </tr>\n",
       "    <tr>\n",
       "      <th>Algeria</th>\n",
       "      <td>3299305</td>\n",
       "    </tr>\n",
       "    <tr>\n",
       "      <th>Andorra</th>\n",
       "      <td>3230</td>\n",
       "    </tr>\n",
       "  </tbody>\n",
       "</table>\n",
       "</div>"
      ],
      "text/plain": [
       "                     Growth\n",
       "Year Country               \n",
       "1850 Afghanistan    3810047\n",
       "     Africa       102932088\n",
       "     Albania         506889\n",
       "     Algeria        3299305\n",
       "     Andorra           3230"
      ]
     },
     "execution_count": 21,
     "metadata": {},
     "output_type": "execute_result"
    }
   ],
   "source": [
    "# Calcular as médias do PIB por Ano e País.\n",
    "MediaGrowthPais = GrowthPais.groupby(['Year', 'Country']).mean()\n",
    "\n",
    "# Visualizar o novo dataframe\n",
    "MediaGrowthPais.head()"
   ]
  },
  {
   "cell_type": "code",
   "execution_count": 22,
   "id": "saved-pursuit",
   "metadata": {},
   "outputs": [],
   "source": [
    "# Salvar o dataframe em formato .csv na Máquina Virtual\n",
    "MediaGrowthPais.to_csv('/home/jupyter/Growth-Country.csv')"
   ]
  },
  {
   "cell_type": "code",
   "execution_count": 23,
   "id": "academic-contest",
   "metadata": {},
   "outputs": [],
   "source": [
    "# Nome que o arquivo será salvo no Google Cloud Storage\n",
    "nomearquivogcs3 = bucket.blob('Growth-Country.csv')\n",
    "\n",
    "# Diretório/Nome do arquivo na VM a ser salvo no Google Cloud Storage\n",
    "nomearquivogcs3.upload_from_filename('/home/jupyter/Growth-Country.csv')"
   ]
  },
  {
   "cell_type": "markdown",
   "id": "breeding-count",
   "metadata": {},
   "source": [
    "Autor do notebook >>>>>>>>>>>>>>>>>>> Vinicius"
   ]
  },
  {
   "cell_type": "code",
   "execution_count": null,
   "id": "sufficient-disney",
   "metadata": {},
   "outputs": [],
   "source": []
  }
 ],
 "metadata": {
  "environment": {
   "name": "tf2-gpu.2-4.mnightly-2021-02-02-debian-10-test",
   "type": "gcloud",
   "uri": "gcr.io/deeplearning-platform-release/tf2-gpu.2-4:mnightly-2021-02-02-debian-10-test"
  },
  "kernelspec": {
   "display_name": "Python 3",
   "language": "python",
   "name": "python3"
  },
  "language_info": {
   "codemirror_mode": {
    "name": "ipython",
    "version": 3
   },
   "file_extension": ".py",
   "mimetype": "text/x-python",
   "name": "python",
   "nbconvert_exporter": "python",
   "pygments_lexer": "ipython3",
   "version": "3.7.9"
  }
 },
 "nbformat": 4,
 "nbformat_minor": 5
}
