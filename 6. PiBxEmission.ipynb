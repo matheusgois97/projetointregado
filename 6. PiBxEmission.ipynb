{
 "cells": [
  {
   "cell_type": "markdown",
   "id": "descending-voice",
   "metadata": {},
   "source": [
    "# Introdução"
   ]
  },
  {
   "cell_type": "markdown",
   "id": "composed-assistant",
   "metadata": {},
   "source": [
    "Este notebook tem o intuito de relacionar as bases 1 e 2 conforme descritos abaixo:\n",
    "    \n",
    "1. \"Emission_Country_Year\" - Base principal do projeto, pois contén os dados quantitativos relacionados a emissão de gases poluentes por País e Ano, esta base registra dados de 1850 a 2019 de 236 países.\n",
    "\n",
    "2. \"Data-gdp-per-capita\" - Base auxiliar, contém informações sobre o PIB de cada País por ano.\n",
    "\n",
    "As relações das bases se darão pelas colunas Base 1, Coluna \"country\" e Base 2, coluna \"Entity\" que são comuns em ambas as bases.\n",
    "\n",
    "Os dados foram limitados para dar inicio no ano de 1850, por conta da nossa base principal iniciar neste ano.\n",
    "\n",
    "Contextualização: Utilizaremos está base para dar mais detalhes de como a Emissão de cO2 influenciou na economia de cada País. "
   ]
  },
  {
   "cell_type": "markdown",
   "id": "psychological-hughes",
   "metadata": {},
   "source": [
    "# Configurações e importações de bibliotecas"
   ]
  },
  {
   "cell_type": "code",
   "execution_count": 1,
   "id": "hearing-fireplace",
   "metadata": {},
   "outputs": [
    {
     "name": "stdout",
     "output_type": "stream",
     "text": [
      "Requirement already satisfied: google-cloud-storage in /opt/conda/lib/python3.7/site-packages (1.30.0)\n",
      "Requirement already satisfied: google-auth<2.0dev,>=1.11.0 in /opt/conda/lib/python3.7/site-packages (from google-cloud-storage) (1.24.0)\n",
      "Requirement already satisfied: google-resumable-media<2.0dev,>=0.6.0 in /opt/conda/lib/python3.7/site-packages (from google-cloud-storage) (1.2.0)\n",
      "Requirement already satisfied: google-cloud-core<2.0dev,>=1.2.0 in /opt/conda/lib/python3.7/site-packages (from google-cloud-storage) (1.3.0)\n",
      "Requirement already satisfied: pyasn1-modules>=0.2.1 in /opt/conda/lib/python3.7/site-packages (from google-auth<2.0dev,>=1.11.0->google-cloud-storage) (0.2.8)\n",
      "Requirement already satisfied: setuptools>=40.3.0 in /opt/conda/lib/python3.7/site-packages (from google-auth<2.0dev,>=1.11.0->google-cloud-storage) (53.0.0)\n",
      "Requirement already satisfied: cachetools<5.0,>=2.0.0 in /opt/conda/lib/python3.7/site-packages (from google-auth<2.0dev,>=1.11.0->google-cloud-storage) (4.2.1)\n",
      "Requirement already satisfied: six>=1.9.0 in /opt/conda/lib/python3.7/site-packages (from google-auth<2.0dev,>=1.11.0->google-cloud-storage) (1.15.0)\n",
      "Requirement already satisfied: rsa<5,>=3.1.4 in /opt/conda/lib/python3.7/site-packages (from google-auth<2.0dev,>=1.11.0->google-cloud-storage) (4.7)\n",
      "Requirement already satisfied: google-api-core<2.0.0dev,>=1.16.0 in /opt/conda/lib/python3.7/site-packages (from google-cloud-core<2.0dev,>=1.2.0->google-cloud-storage) (1.22.4)\n",
      "Requirement already satisfied: protobuf>=3.12.0 in /opt/conda/lib/python3.7/site-packages (from google-api-core<2.0.0dev,>=1.16.0->google-cloud-core<2.0dev,>=1.2.0->google-cloud-storage) (3.14.0)\n",
      "Requirement already satisfied: requests<3.0.0dev,>=2.18.0 in /opt/conda/lib/python3.7/site-packages (from google-api-core<2.0.0dev,>=1.16.0->google-cloud-core<2.0dev,>=1.2.0->google-cloud-storage) (2.25.1)\n",
      "Requirement already satisfied: pytz in /opt/conda/lib/python3.7/site-packages (from google-api-core<2.0.0dev,>=1.16.0->google-cloud-core<2.0dev,>=1.2.0->google-cloud-storage) (2021.1)\n",
      "Requirement already satisfied: googleapis-common-protos<2.0dev,>=1.6.0 in /opt/conda/lib/python3.7/site-packages (from google-api-core<2.0.0dev,>=1.16.0->google-cloud-core<2.0dev,>=1.2.0->google-cloud-storage) (1.52.0)\n",
      "Requirement already satisfied: google-crc32c<2.0dev,>=1.0 in /opt/conda/lib/python3.7/site-packages (from google-resumable-media<2.0dev,>=0.6.0->google-cloud-storage) (1.1.2)\n",
      "Requirement already satisfied: cffi>=1.0.0 in /opt/conda/lib/python3.7/site-packages (from google-crc32c<2.0dev,>=1.0->google-resumable-media<2.0dev,>=0.6.0->google-cloud-storage) (1.14.4)\n",
      "Requirement already satisfied: pycparser in /opt/conda/lib/python3.7/site-packages (from cffi>=1.0.0->google-crc32c<2.0dev,>=1.0->google-resumable-media<2.0dev,>=0.6.0->google-cloud-storage) (2.20)\n",
      "Requirement already satisfied: pyasn1<0.5.0,>=0.4.6 in /opt/conda/lib/python3.7/site-packages (from pyasn1-modules>=0.2.1->google-auth<2.0dev,>=1.11.0->google-cloud-storage) (0.4.8)\n",
      "Requirement already satisfied: certifi>=2017.4.17 in /opt/conda/lib/python3.7/site-packages (from requests<3.0.0dev,>=2.18.0->google-api-core<2.0.0dev,>=1.16.0->google-cloud-core<2.0dev,>=1.2.0->google-cloud-storage) (2020.12.5)\n",
      "Requirement already satisfied: chardet<5,>=3.0.2 in /opt/conda/lib/python3.7/site-packages (from requests<3.0.0dev,>=2.18.0->google-api-core<2.0.0dev,>=1.16.0->google-cloud-core<2.0dev,>=1.2.0->google-cloud-storage) (4.0.0)\n",
      "Requirement already satisfied: urllib3<1.27,>=1.21.1 in /opt/conda/lib/python3.7/site-packages (from requests<3.0.0dev,>=2.18.0->google-api-core<2.0.0dev,>=1.16.0->google-cloud-core<2.0dev,>=1.2.0->google-cloud-storage) (1.26.3)\n",
      "Requirement already satisfied: idna<3,>=2.5 in /opt/conda/lib/python3.7/site-packages (from requests<3.0.0dev,>=2.18.0->google-api-core<2.0.0dev,>=1.16.0->google-cloud-core<2.0dev,>=1.2.0->google-cloud-storage) (2.10)\n",
      "Requirement already satisfied: pandas in /opt/conda/lib/python3.7/site-packages (1.2.1)\n",
      "Requirement already satisfied: python-dateutil>=2.7.3 in /opt/conda/lib/python3.7/site-packages (from pandas) (2.8.1)\n",
      "Requirement already satisfied: pytz>=2017.3 in /opt/conda/lib/python3.7/site-packages (from pandas) (2021.1)\n",
      "Requirement already satisfied: numpy>=1.16.5 in /opt/conda/lib/python3.7/site-packages (from pandas) (1.19.5)\n",
      "Requirement already satisfied: six>=1.5 in /opt/conda/lib/python3.7/site-packages (from python-dateutil>=2.7.3->pandas) (1.15.0)\n"
     ]
    }
   ],
   "source": [
    "!pip install google-cloud-storage\n",
    "!pip install pandas"
   ]
  },
  {
   "cell_type": "code",
   "execution_count": 2,
   "id": "confused-lithuania",
   "metadata": {},
   "outputs": [],
   "source": [
    "# Importar a biblioteca do \n",
    "import pandas as pd\n",
    "\n",
    "# Importar a biblioteca do Google Cloud Storage para upload do arquivo .csv salvo\n",
    "from google.cloud import storage"
   ]
  },
  {
   "cell_type": "markdown",
   "id": "hundred-devil",
   "metadata": {},
   "source": [
    "# Criação da Dimensão País "
   ]
  },
  {
   "cell_type": "code",
   "execution_count": 20,
   "id": "developing-cologne",
   "metadata": {},
   "outputs": [
    {
     "data": {
      "text/plain": [
       "Index(['iso_code', 'country', 'year', 'co2', 'co2_growth_prct',\n",
       "       'co2_growth_abs', 'consumption_co2', 'trade_co2', 'trade_co2_share',\n",
       "       'co2_per_capita', 'consumption_co2_per_capita', 'share_global_co2',\n",
       "       'cumulative_co2', 'share_global_cumulative_co2', 'co2_per_gdp',\n",
       "       'consumption_co2_per_gdp', 'co2_per_unit_energy', 'cement_co2',\n",
       "       'coal_co2', 'flaring_co2', 'gas_co2', 'oil_co2', 'other_industry_co2',\n",
       "       'cement_co2_per_capita', 'coal_co2_per_capita',\n",
       "       'flaring_co2_per_capita', 'gas_co2_per_capita', 'oil_co2_per_capita',\n",
       "       'other_co2_per_capita', 'share_global_coal_co2', 'share_global_oil_co2',\n",
       "       'share_global_gas_co2', 'share_global_flaring_co2',\n",
       "       'share_global_cement_co2', 'cumulative_coal_co2', 'cumulative_oil_co2',\n",
       "       'cumulative_gas_co2', 'cumulative_flaring_co2', 'cumulative_cement_co2',\n",
       "       'share_global_cumulative_coal_co2', 'share_global_cumulative_oil_co2',\n",
       "       'share_global_cumulative_gas_co2',\n",
       "       'share_global_cumulative_flaring_co2',\n",
       "       'share_global_cumulative_cement_co2', 'total_ghg', 'ghg_per_capita',\n",
       "       'methane', 'methane_per_capita', 'nitrous_oxide',\n",
       "       'nitrous_oxide_per_capita', 'primary_energy_consumption',\n",
       "       'energy_per_capita', 'energy_per_gdp', 'population', 'gdp'],\n",
       "      dtype='object')"
      ]
     },
     "execution_count": 20,
     "metadata": {},
     "output_type": "execute_result"
    }
   ],
   "source": [
    "# Ler a base dimensão País do Github\n",
    "Pais = pd.read_csv('https://raw.githubusercontent.com/owid/co2-data/master/owid-co2-data.csv', error_bad_lines=False)\n",
    "\n",
    "# Listar todas as colunas para visualizar quais serão utilizadas\n",
    "Pais.columns"
   ]
  },
  {
   "cell_type": "code",
   "execution_count": 21,
   "id": "instrumental-gateway",
   "metadata": {},
   "outputs": [
    {
     "data": {
      "text/html": [
       "<div>\n",
       "<style scoped>\n",
       "    .dataframe tbody tr th:only-of-type {\n",
       "        vertical-align: middle;\n",
       "    }\n",
       "\n",
       "    .dataframe tbody tr th {\n",
       "        vertical-align: top;\n",
       "    }\n",
       "\n",
       "    .dataframe thead th {\n",
       "        text-align: right;\n",
       "    }\n",
       "</style>\n",
       "<table border=\"1\" class=\"dataframe\">\n",
       "  <thead>\n",
       "    <tr style=\"text-align: right;\">\n",
       "      <th></th>\n",
       "      <th>iso_code</th>\n",
       "      <th>country</th>\n",
       "    </tr>\n",
       "  </thead>\n",
       "  <tbody>\n",
       "    <tr>\n",
       "      <th>0</th>\n",
       "      <td>AFG</td>\n",
       "      <td>Afghanistan</td>\n",
       "    </tr>\n",
       "    <tr>\n",
       "      <th>1</th>\n",
       "      <td>AFG</td>\n",
       "      <td>Afghanistan</td>\n",
       "    </tr>\n",
       "    <tr>\n",
       "      <th>2</th>\n",
       "      <td>AFG</td>\n",
       "      <td>Afghanistan</td>\n",
       "    </tr>\n",
       "    <tr>\n",
       "      <th>3</th>\n",
       "      <td>AFG</td>\n",
       "      <td>Afghanistan</td>\n",
       "    </tr>\n",
       "    <tr>\n",
       "      <th>4</th>\n",
       "      <td>AFG</td>\n",
       "      <td>Afghanistan</td>\n",
       "    </tr>\n",
       "    <tr>\n",
       "      <th>...</th>\n",
       "      <td>...</td>\n",
       "      <td>...</td>\n",
       "    </tr>\n",
       "    <tr>\n",
       "      <th>23703</th>\n",
       "      <td>ZWE</td>\n",
       "      <td>Zimbabwe</td>\n",
       "    </tr>\n",
       "    <tr>\n",
       "      <th>23704</th>\n",
       "      <td>ZWE</td>\n",
       "      <td>Zimbabwe</td>\n",
       "    </tr>\n",
       "    <tr>\n",
       "      <th>23705</th>\n",
       "      <td>ZWE</td>\n",
       "      <td>Zimbabwe</td>\n",
       "    </tr>\n",
       "    <tr>\n",
       "      <th>23706</th>\n",
       "      <td>ZWE</td>\n",
       "      <td>Zimbabwe</td>\n",
       "    </tr>\n",
       "    <tr>\n",
       "      <th>23707</th>\n",
       "      <td>ZWE</td>\n",
       "      <td>Zimbabwe</td>\n",
       "    </tr>\n",
       "  </tbody>\n",
       "</table>\n",
       "<p>23708 rows × 2 columns</p>\n",
       "</div>"
      ],
      "text/plain": [
       "      iso_code      country\n",
       "0          AFG  Afghanistan\n",
       "1          AFG  Afghanistan\n",
       "2          AFG  Afghanistan\n",
       "3          AFG  Afghanistan\n",
       "4          AFG  Afghanistan\n",
       "...        ...          ...\n",
       "23703      ZWE     Zimbabwe\n",
       "23704      ZWE     Zimbabwe\n",
       "23705      ZWE     Zimbabwe\n",
       "23706      ZWE     Zimbabwe\n",
       "23707      ZWE     Zimbabwe\n",
       "\n",
       "[23708 rows x 2 columns]"
      ]
     },
     "execution_count": 21,
     "metadata": {},
     "output_type": "execute_result"
    }
   ],
   "source": [
    "# Selecionar as colunas que serão utilizadas\n",
    "Pais = Pais.filter(items=['iso_code', 'country'])\n",
    "\n",
    "# Alterar todos os valores nulos em iso_code\n",
    "Pais['iso_code'].fillna('Preencher',inplace=True)\n",
    "Pais"
   ]
  },
  {
   "cell_type": "code",
   "execution_count": 22,
   "id": "conditional-retention",
   "metadata": {},
   "outputs": [
    {
     "data": {
      "text/html": [
       "<div>\n",
       "<style scoped>\n",
       "    .dataframe tbody tr th:only-of-type {\n",
       "        vertical-align: middle;\n",
       "    }\n",
       "\n",
       "    .dataframe tbody tr th {\n",
       "        vertical-align: top;\n",
       "    }\n",
       "\n",
       "    .dataframe thead tr th {\n",
       "        text-align: left;\n",
       "    }\n",
       "</style>\n",
       "<table border=\"1\" class=\"dataframe\">\n",
       "  <thead>\n",
       "    <tr>\n",
       "      <th></th>\n",
       "      <th>country</th>\n",
       "      <th>iso_code</th>\n",
       "    </tr>\n",
       "  </thead>\n",
       "  <tbody>\n",
       "    <tr>\n",
       "      <th>0</th>\n",
       "      <td>Afghanistan</td>\n",
       "      <td>AFG</td>\n",
       "    </tr>\n",
       "    <tr>\n",
       "      <th>1</th>\n",
       "      <td>Africa</td>\n",
       "      <td>Preencher</td>\n",
       "    </tr>\n",
       "    <tr>\n",
       "      <th>2</th>\n",
       "      <td>Albania</td>\n",
       "      <td>ALB</td>\n",
       "    </tr>\n",
       "    <tr>\n",
       "      <th>3</th>\n",
       "      <td>Algeria</td>\n",
       "      <td>DZA</td>\n",
       "    </tr>\n",
       "    <tr>\n",
       "      <th>4</th>\n",
       "      <td>Andorra</td>\n",
       "      <td>AND</td>\n",
       "    </tr>\n",
       "  </tbody>\n",
       "</table>\n",
       "</div>"
      ],
      "text/plain": [
       "       country   iso_code\n",
       "0  Afghanistan        AFG\n",
       "1       Africa  Preencher\n",
       "2      Albania        ALB\n",
       "3      Algeria        DZA\n",
       "4      Andorra        AND"
      ]
     },
     "execution_count": 22,
     "metadata": {},
     "output_type": "execute_result"
    }
   ],
   "source": [
    "#Agrupar 'iso_code' selecionando os dados coluna 'country' - índice reiniciado para 'iso_code' e transformado em coluna\n",
    "Pais = Pais.groupby('country')['iso_code'].apply(lambda Pais: Pais.reset_index(drop=True)).unstack(0)\n",
    "\n",
    "#Dropar todos os valores nulos\n",
    "Pais.dropna(inplace=True)\n",
    "\n",
    "# Transpor DataFrame\n",
    "Pais = Pais.transpose()\n",
    "\n",
    "# Reiniciar índice\n",
    "Pais.reset_index(inplace=True)\n",
    "\n",
    "# Alterar nome da coluna para 'country'\n",
    "Pais.columns = [['country', 'iso_code']]\n",
    "\n",
    "#exibição do dataframe\n",
    "Pais.head()"
   ]
  },
  {
   "cell_type": "markdown",
   "id": "broad-bottle",
   "metadata": {},
   "source": [
    "# Tratamento de PIB por País"
   ]
  },
  {
   "cell_type": "code",
   "execution_count": 37,
   "id": "attempted-luther",
   "metadata": {},
   "outputs": [
    {
     "data": {
      "text/plain": [
       "Index(['Entity', 'Code', 'Year',\n",
       "       'Real GDP per capita in 2011US$, 2011 benchmark (Maddison Project Database (2018))'],\n",
       "      dtype='object')"
      ]
     },
     "execution_count": 37,
     "metadata": {},
     "output_type": "execute_result"
    }
   ],
   "source": [
    "# Ler a base do PIB do diretorio do GitHub\n",
    "PibPais = pd.read_csv('https://raw.githubusercontent.com/ViniGome/Projeto-Integrado/main/maddison-data-gdp-per-capita-in-2011us-single-benchmark.csv', error_bad_lines=False)\n",
    "\n",
    "# Listar todas as colunas para visualizar quais serão utilizadas\n",
    "PibPais.columns"
   ]
  },
  {
   "cell_type": "code",
   "execution_count": 38,
   "id": "eligible-wheel",
   "metadata": {},
   "outputs": [],
   "source": [
    "# Selecionar as colunas que serão utilizadas\n",
    "PibPais = PibPais.filter(items=['Year', 'Entity', 'Real GDP per capita in 2011US$, 2011 benchmark (Maddison Project Database (2018))'])"
   ]
  },
  {
   "cell_type": "code",
   "execution_count": 39,
   "id": "fundamental-netscape",
   "metadata": {},
   "outputs": [
    {
     "data": {
      "text/html": [
       "<div>\n",
       "<style scoped>\n",
       "    .dataframe tbody tr th:only-of-type {\n",
       "        vertical-align: middle;\n",
       "    }\n",
       "\n",
       "    .dataframe tbody tr th {\n",
       "        vertical-align: top;\n",
       "    }\n",
       "\n",
       "    .dataframe thead th {\n",
       "        text-align: right;\n",
       "    }\n",
       "</style>\n",
       "<table border=\"1\" class=\"dataframe\">\n",
       "  <thead>\n",
       "    <tr style=\"text-align: right;\">\n",
       "      <th></th>\n",
       "      <th>Year</th>\n",
       "      <th>Entity</th>\n",
       "      <th>Real GDP per capita in 2011US$, 2011 benchmark (Maddison Project Database (2018))</th>\n",
       "    </tr>\n",
       "  </thead>\n",
       "  <tbody>\n",
       "    <tr>\n",
       "      <th>0</th>\n",
       "      <td>1950</td>\n",
       "      <td>Afghanistan</td>\n",
       "      <td>2392</td>\n",
       "    </tr>\n",
       "    <tr>\n",
       "      <th>1</th>\n",
       "      <td>1951</td>\n",
       "      <td>Afghanistan</td>\n",
       "      <td>2422</td>\n",
       "    </tr>\n",
       "    <tr>\n",
       "      <th>2</th>\n",
       "      <td>1952</td>\n",
       "      <td>Afghanistan</td>\n",
       "      <td>2462</td>\n",
       "    </tr>\n",
       "    <tr>\n",
       "      <th>3</th>\n",
       "      <td>1953</td>\n",
       "      <td>Afghanistan</td>\n",
       "      <td>2568</td>\n",
       "    </tr>\n",
       "    <tr>\n",
       "      <th>4</th>\n",
       "      <td>1954</td>\n",
       "      <td>Afghanistan</td>\n",
       "      <td>2576</td>\n",
       "    </tr>\n",
       "    <tr>\n",
       "      <th>...</th>\n",
       "      <td>...</td>\n",
       "      <td>...</td>\n",
       "      <td>...</td>\n",
       "    </tr>\n",
       "    <tr>\n",
       "      <th>14643</th>\n",
       "      <td>2012</td>\n",
       "      <td>Zimbabwe</td>\n",
       "      <td>1604</td>\n",
       "    </tr>\n",
       "    <tr>\n",
       "      <th>14644</th>\n",
       "      <td>2013</td>\n",
       "      <td>Zimbabwe</td>\n",
       "      <td>1604</td>\n",
       "    </tr>\n",
       "    <tr>\n",
       "      <th>14645</th>\n",
       "      <td>2014</td>\n",
       "      <td>Zimbabwe</td>\n",
       "      <td>1594</td>\n",
       "    </tr>\n",
       "    <tr>\n",
       "      <th>14646</th>\n",
       "      <td>2015</td>\n",
       "      <td>Zimbabwe</td>\n",
       "      <td>1560</td>\n",
       "    </tr>\n",
       "    <tr>\n",
       "      <th>14647</th>\n",
       "      <td>2016</td>\n",
       "      <td>Zimbabwe</td>\n",
       "      <td>1534</td>\n",
       "    </tr>\n",
       "  </tbody>\n",
       "</table>\n",
       "<p>14648 rows × 3 columns</p>\n",
       "</div>"
      ],
      "text/plain": [
       "       Year       Entity  \\\n",
       "0      1950  Afghanistan   \n",
       "1      1951  Afghanistan   \n",
       "2      1952  Afghanistan   \n",
       "3      1953  Afghanistan   \n",
       "4      1954  Afghanistan   \n",
       "...     ...          ...   \n",
       "14643  2012     Zimbabwe   \n",
       "14644  2013     Zimbabwe   \n",
       "14645  2014     Zimbabwe   \n",
       "14646  2015     Zimbabwe   \n",
       "14647  2016     Zimbabwe   \n",
       "\n",
       "       Real GDP per capita in 2011US$, 2011 benchmark (Maddison Project Database (2018))  \n",
       "0                                                   2392                                  \n",
       "1                                                   2422                                  \n",
       "2                                                   2462                                  \n",
       "3                                                   2568                                  \n",
       "4                                                   2576                                  \n",
       "...                                                  ...                                  \n",
       "14643                                               1604                                  \n",
       "14644                                               1604                                  \n",
       "14645                                               1594                                  \n",
       "14646                                               1560                                  \n",
       "14647                                               1534                                  \n",
       "\n",
       "[14648 rows x 3 columns]"
      ]
     },
     "execution_count": 39,
     "metadata": {},
     "output_type": "execute_result"
    }
   ],
   "source": [
    "# Dropando dados abaixo do ano de 1850.\n",
    "indexNames = PibPais[(PibPais['Year'] < 1850 )].index\n",
    "PibPais.drop(indexNames, inplace=True)\n",
    "PibPais.reset_index(inplace = True)\n",
    "PibPais.drop(['index'],axis=1, inplace=True)\n",
    "PibPais"
   ]
  },
  {
   "cell_type": "code",
   "execution_count": 40,
   "id": "steady-injury",
   "metadata": {},
   "outputs": [],
   "source": [
    "# Converter coluna dt para número inteiro\n",
    "PibPais = PibPais.astype({'Year': int})\n",
    "\n",
    "# Alterar nomes das colunas\n",
    "PibPais = PibPais.rename(columns={'Entity': 'Country', 'Real GDP per capita in 2011US$, 2011 benchmark (Maddison Project Database (2018))': 'PIB'})"
   ]
  },
  {
   "cell_type": "code",
   "execution_count": 41,
   "id": "efficient-savage",
   "metadata": {},
   "outputs": [],
   "source": [
    "#importação de pacote\n",
    "from google.cloud import storage\n",
    "# setando as credeciais com o arquivo json que contem a chave\n",
    "client = storage.Client.from_service_account_json(json_credentials_path='/home/greyce_cos_sil/projetoteste-299919-abc73be2d5b5.json')\n",
    "# setando o bucket onde deseja-se salvar os arquivos\n",
    "bucket = client.get_bucket('jupyter_note')\n",
    "#salvando os dados do dataframe Kyoto_Agreement_Countries em um arquivo csv\n",
    "PibPais.to_csv(\"PIB_Country_Year.csv\")\n",
    "#Nome do arquivo que será salvo no bucket\n",
    "PIB_Country_Year_bucket = bucket.blob('PIB_Country_Year.csv')\n",
    "# Name of the object in local file system\n",
    "PIB_Country_Year_bucket.upload_from_filename('/home/jupyter/PIB_Country_Year.csv')"
   ]
  },
  {
   "cell_type": "code",
   "execution_count": 42,
   "id": "attractive-lemon",
   "metadata": {},
   "outputs": [
    {
     "data": {
      "text/html": [
       "<div>\n",
       "<style scoped>\n",
       "    .dataframe tbody tr th:only-of-type {\n",
       "        vertical-align: middle;\n",
       "    }\n",
       "\n",
       "    .dataframe tbody tr th {\n",
       "        vertical-align: top;\n",
       "    }\n",
       "\n",
       "    .dataframe thead th {\n",
       "        text-align: right;\n",
       "    }\n",
       "</style>\n",
       "<table border=\"1\" class=\"dataframe\">\n",
       "  <thead>\n",
       "    <tr style=\"text-align: right;\">\n",
       "      <th></th>\n",
       "      <th></th>\n",
       "      <th>PIB</th>\n",
       "    </tr>\n",
       "    <tr>\n",
       "      <th>Year</th>\n",
       "      <th>Country</th>\n",
       "      <th></th>\n",
       "    </tr>\n",
       "  </thead>\n",
       "  <tbody>\n",
       "    <tr>\n",
       "      <th rowspan=\"5\" valign=\"top\">1850</th>\n",
       "      <th>Argentina</th>\n",
       "      <td>2198</td>\n",
       "    </tr>\n",
       "    <tr>\n",
       "      <th>Australia</th>\n",
       "      <td>3589</td>\n",
       "    </tr>\n",
       "    <tr>\n",
       "      <th>Austria</th>\n",
       "      <td>2861</td>\n",
       "    </tr>\n",
       "    <tr>\n",
       "      <th>Belgium</th>\n",
       "      <td>3029</td>\n",
       "    </tr>\n",
       "    <tr>\n",
       "      <th>Brazil</th>\n",
       "      <td>1123</td>\n",
       "    </tr>\n",
       "  </tbody>\n",
       "</table>\n",
       "</div>"
      ],
      "text/plain": [
       "                 PIB\n",
       "Year Country        \n",
       "1850 Argentina  2198\n",
       "     Australia  3589\n",
       "     Austria    2861\n",
       "     Belgium    3029\n",
       "     Brazil     1123"
      ]
     },
     "execution_count": 42,
     "metadata": {},
     "output_type": "execute_result"
    }
   ],
   "source": [
    "# Calcular as médias do PIB por Ano e País.\n",
    "MediaPibPais = PibPais.groupby(['Year', 'Country']).mean()\n",
    "\n",
    "# Visualizar o novo dataframe\n",
    "MediaPibPais.head()"
   ]
  },
  {
   "cell_type": "code",
   "execution_count": 43,
   "id": "romantic-lobby",
   "metadata": {},
   "outputs": [],
   "source": [
    "#salvando os dados do dataframe Kyoto_Agreement_Countries em um arquivo csv\n",
    "MediaPibPais.to_csv(\"Media_PIB_Country_Year.csv\")\n",
    "#Nome do arquivo que será salvo no bucket\n",
    "MediaPibPais_Country_Year_bucket = bucket.blob('Media_PIB_Country_Year.csv')\n",
    "# Name of the object in local file system\n",
    "MediaPibPais_Country_Year_bucket.upload_from_filename('/home/jupyter/Media_PIB_Country_Year.csv')"
   ]
  },
  {
   "cell_type": "markdown",
   "id": "burning-worship",
   "metadata": {},
   "source": [
    "Autor do notebook >>>>>>>>>>>>>>>>>>> Vinicius"
   ]
  },
  {
   "cell_type": "code",
   "execution_count": null,
   "id": "desirable-young",
   "metadata": {},
   "outputs": [],
   "source": []
  }
 ],
 "metadata": {
  "environment": {
   "name": "tf2-gpu.2-4.mnightly-2021-02-02-debian-10-test",
   "type": "gcloud",
   "uri": "gcr.io/deeplearning-platform-release/tf2-gpu.2-4:mnightly-2021-02-02-debian-10-test"
  },
  "kernelspec": {
   "display_name": "Python 3",
   "language": "python",
   "name": "python3"
  },
  "language_info": {
   "codemirror_mode": {
    "name": "ipython",
    "version": 3
   },
   "file_extension": ".py",
   "mimetype": "text/x-python",
   "name": "python",
   "nbconvert_exporter": "python",
   "pygments_lexer": "ipython3",
   "version": "3.7.9"
  }
 },
 "nbformat": 4,
 "nbformat_minor": 5
}
